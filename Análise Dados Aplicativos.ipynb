{
 "cells": [
  {
   "cell_type": "markdown",
   "metadata": {},
   "source": [
    "# Análise Lojas de Aplicativos\n",
    "\n",
    "Análise de dados sobre aplicativos da Applestore (2017) e da Playstore (2018)"
   ]
  },
  {
   "cell_type": "code",
   "execution_count": 2,
   "metadata": {},
   "outputs": [],
   "source": [
    "#Abrir arquivo com dados sobre a Applestore\n",
    "from csv import reader\n",
    "\n",
    "opened_file = open('AppleStore.csv')\n",
    "read_file = reader(opened_file)\n",
    "apps_ios = list(read_file)"
   ]
  },
  {
   "cell_type": "code",
   "execution_count": 53,
   "metadata": {},
   "outputs": [],
   "source": [
    "#Abrir arquivo com dados sobre a Playstore\n",
    "from csv import reader\n",
    "\n",
    "opened_file = open('googleplaystore.csv')\n",
    "read_file = reader(opened_file)\n",
    "apps_android = list(read_file)"
   ]
  },
  {
   "cell_type": "code",
   "execution_count": 50,
   "metadata": {},
   "outputs": [],
   "source": [
    "# função para explorar os dados \n",
    "\n",
    "def explore_data(dataset, inicio,fim, linhas_e_colunas = False):\n",
    "    dataset_slice = dataset[inicio:fim]\n",
    "    for row in dataset_slice:\n",
    "        print(row)\n",
    "        print('\\n')\n",
    "        \n",
    "    if linhas_e_colunas:\n",
    "        print('Número de linhas:', len(dataset))\n",
    "        print('Número de colunas:', len(dataset[0]))"
   ]
  },
  {
   "cell_type": "code",
   "execution_count": 60,
   "metadata": {},
   "outputs": [
    {
     "name": "stdout",
     "output_type": "stream",
     "text": [
      "10841\n",
      "0\n"
     ]
    }
   ],
   "source": [
    "# Apps duplicados\n",
    "# Verificar se há duplicidade nos dados\n",
    "\n",
    "duplicateapps = []\n",
    "uniqueapps = []\n",
    "\n",
    "for row in apps_android:\n",
    "    \n",
    "    app = row[1]\n",
    "    \n",
    "    if app in unique_apps:\n",
    "        duplicateapps.append([app])\n",
    "    else:\n",
    "        uniqueapps.append([app])\n",
    "        \n",
    "print(len(uniqueapps))\n",
    "print(len(duplicateapps))\n",
    "        "
   ]
  },
  {
   "cell_type": "code",
   "execution_count": 64,
   "metadata": {},
   "outputs": [],
   "source": [
    "reviews_max = {}\n",
    "\n",
    "for row in apps_android[1:]:\n",
    "    name = row[0]\n",
    "    n_reviews = float(row[3])\n",
    "    \n",
    "    if (name in reviews_max) and (reviews_max[name] < n_reviews):\n",
    "        reviews_max[name] = n_reviews\n",
    "    elif not (name in reviews_max):\n",
    "        reviews_max[name] = n_reviews\n",
    "        \n",
    "    "
   ]
  },
  {
   "cell_type": "code",
   "execution_count": 87,
   "metadata": {},
   "outputs": [],
   "source": [
    "#função para determinar se há caracteres não pertecentes ao padrão no inglês\n",
    "\n",
    "def is_ascii(text):\n",
    "    test = 0\n",
    "    for letter in text:\n",
    "        if ord(letter) > 127:\n",
    "            test += 1\n",
    "    if test > 3:\n",
    "        return False\n",
    "    else:\n",
    "        return True\n",
    "            "
   ]
  },
  {
   "cell_type": "code",
   "execution_count": 88,
   "metadata": {},
   "outputs": [
    {
     "data": {
      "text/plain": [
       "True"
      ]
     },
     "execution_count": 88,
     "metadata": {},
     "output_type": "execute_result"
    }
   ],
   "source": [
    "is_ascii('Instagram')"
   ]
  },
  {
   "cell_type": "code",
   "execution_count": 89,
   "metadata": {},
   "outputs": [
    {
     "data": {
      "text/plain": [
       "False"
      ]
     },
     "execution_count": 89,
     "metadata": {},
     "output_type": "execute_result"
    }
   ],
   "source": [
    "is_ascii('爱奇艺PPS -《欢乐颂2》电视剧热播')"
   ]
  },
  {
   "cell_type": "code",
   "execution_count": 90,
   "metadata": {},
   "outputs": [
    {
     "data": {
      "text/plain": [
       "True"
      ]
     },
     "execution_count": 90,
     "metadata": {},
     "output_type": "execute_result"
    }
   ],
   "source": [
    "is_ascii('Docs To Go™ Free Office Suite')"
   ]
  },
  {
   "cell_type": "code",
   "execution_count": 91,
   "metadata": {},
   "outputs": [
    {
     "data": {
      "text/plain": [
       "True"
      ]
     },
     "execution_count": 91,
     "metadata": {},
     "output_type": "execute_result"
    }
   ],
   "source": [
    "is_ascii('Instachat 😜')"
   ]
  },
  {
   "cell_type": "code",
   "execution_count": 97,
   "metadata": {},
   "outputs": [],
   "source": [
    "# Encontrar apps que os nomes estão fora do padrão ou em outro idioma\n",
    "\n",
    "nomes_corretos = []\n",
    "nomes_incorretos = []\n",
    "\n",
    "for row in apps_android:\n",
    "    name = row[0]\n",
    "    if is_ascii(name):\n",
    "        nomes_corretos.append(row)\n",
    "    else:\n",
    "        nomes_incorretos.append(row)\n",
    "        \n",
    "        \n"
   ]
  },
  {
   "cell_type": "code",
   "execution_count": 122,
   "metadata": {},
   "outputs": [],
   "source": [
    "# Selecionando apenas o aplicativos grátis\n",
    "\n",
    "def select_free_apps(dataset,index):\n",
    "    apps_gra = []\n",
    "    apps_pagos = []\n",
    "    for row in dataset:\n",
    "        try:\n",
    "            if (row[index] == 'Free'):\n",
    "                apps_pagos.append(row)\n",
    "        except:\n",
    "            if (float(row[index]) > 0):\n",
    "                apps_pagos.append(row)\n",
    "        else:\n",
    "            apps_gra.append(row)\n",
    "    return apps_gra,apps_pagos\n",
    "        "
   ]
  },
  {
   "cell_type": "code",
   "execution_count": 133,
   "metadata": {},
   "outputs": [],
   "source": [
    "# Encontrando os generos mais comuns nos datasets\n",
    "\n",
    "def generos(dataset, coluna):\n",
    "    genre = {}\n",
    "    for row in dataset:\n",
    "        if row[coluna] in genre:\n",
    "            genre[row[coluna]] += 1\n",
    "        else:\n",
    "            genre[row[coluna]] = 1\n",
    "    return genre"
   ]
  },
  {
   "cell_type": "code",
   "execution_count": 135,
   "metadata": {},
   "outputs": [
    {
     "data": {
      "text/plain": [
       "{'ART_AND_DESIGN': 65,\n",
       " 'AUTO_AND_VEHICLES': 85,\n",
       " 'BEAUTY': 53,\n",
       " 'BOOKS_AND_REFERENCE': 231,\n",
       " 'BUSINESS': 460,\n",
       " 'COMICS': 60,\n",
       " 'COMMUNICATION': 387,\n",
       " 'DATING': 234,\n",
       " 'EDUCATION': 156,\n",
       " 'ENTERTAINMENT': 149,\n",
       " 'EVENTS': 64,\n",
       " 'FAMILY': 1972,\n",
       " 'FINANCE': 366,\n",
       " 'FOOD_AND_DRINK': 127,\n",
       " 'GAME': 1144,\n",
       " 'HEALTH_AND_FITNESS': 341,\n",
       " 'HOUSE_AND_HOME': 88,\n",
       " 'LIBRARIES_AND_DEMO': 85,\n",
       " 'LIFESTYLE': 382,\n",
       " 'MAPS_AND_NAVIGATION': 137,\n",
       " 'MEDICAL': 463,\n",
       " 'NEWS_AND_MAGAZINES': 283,\n",
       " 'PARENTING': 60,\n",
       " 'PERSONALIZATION': 392,\n",
       " 'PHOTOGRAPHY': 335,\n",
       " 'PRODUCTIVITY': 424,\n",
       " 'SHOPPING': 260,\n",
       " 'SOCIAL': 295,\n",
       " 'SPORTS': 384,\n",
       " 'TOOLS': 843,\n",
       " 'TRAVEL_AND_LOCAL': 258,\n",
       " 'VIDEO_PLAYERS': 175,\n",
       " 'WEATHER': 82}"
      ]
     },
     "execution_count": 135,
     "metadata": {},
     "output_type": "execute_result"
    }
   ],
   "source": [
    "generos(apps_android[1:], 1)"
   ]
  },
  {
   "cell_type": "code",
   "execution_count": 137,
   "metadata": {},
   "outputs": [
    {
     "data": {
      "text/plain": [
       "{'Book': 112,\n",
       " 'Business': 57,\n",
       " 'Catalogs': 10,\n",
       " 'Education': 453,\n",
       " 'Entertainment': 535,\n",
       " 'Finance': 104,\n",
       " 'Food & Drink': 63,\n",
       " 'Games': 3862,\n",
       " 'Health & Fitness': 180,\n",
       " 'Lifestyle': 144,\n",
       " 'Medical': 23,\n",
       " 'Music': 138,\n",
       " 'Navigation': 46,\n",
       " 'News': 75,\n",
       " 'Photo & Video': 349,\n",
       " 'Productivity': 178,\n",
       " 'Reference': 64,\n",
       " 'Shopping': 122,\n",
       " 'Social Networking': 167,\n",
       " 'Sports': 114,\n",
       " 'Travel': 81,\n",
       " 'Utilities': 248,\n",
       " 'Weather': 72}"
      ]
     },
     "execution_count": 137,
     "metadata": {},
     "output_type": "execute_result"
    }
   ],
   "source": [
    "generos(apps_ios[1:],11)"
   ]
  },
  {
   "cell_type": "code",
   "execution_count": 150,
   "metadata": {},
   "outputs": [],
   "source": [
    "#Função para criação de uma tabela de frequência percentual para qualquer coluna\n",
    "\n",
    "def tab_freq(dataset,col):\n",
    "    tabela_freq = {}\n",
    "    total = 0\n",
    "    for row in dataset:\n",
    "        if row[col] in tabela_freq:\n",
    "            tabela_freq[row[col]] += 1\n",
    "        else:\n",
    "            tabela_freq[row[col]] = 1\n",
    "    for value in tabela_freq:\n",
    "        total += tabela_freq[value]\n",
    "    for value in tabela_freq:\n",
    "        tabela_freq[value] = round(((tabela_freq[value] / total) * 100),2)\n",
    "        \n",
    "    return tabela_freq"
   ]
  },
  {
   "cell_type": "code",
   "execution_count": 151,
   "metadata": {},
   "outputs": [
    {
     "data": {
      "text/plain": [
       "{'Adults only 18+': 0.03,\n",
       " 'Everyone': 80.39,\n",
       " 'Everyone 10+': 3.82,\n",
       " 'Mature 17+': 4.6,\n",
       " 'Teen': 11.14,\n",
       " 'Unrated': 0.02}"
      ]
     },
     "execution_count": 151,
     "metadata": {},
     "output_type": "execute_result"
    }
   ],
   "source": [
    "tab_freq(apps_android[1:],8)"
   ]
  },
  {
   "cell_type": "code",
   "execution_count": 155,
   "metadata": {},
   "outputs": [],
   "source": [
    "#função para mostrar coluna\n",
    "\n",
    "def display_table(dataset, index):\n",
    "    table = tab_freq(dataset, index)\n",
    "    table_display = []\n",
    "    for key in table:\n",
    "        key_val_as_tuple = (table[key], key)\n",
    "        table_display.append(key_val_as_tuple)\n",
    "\n",
    "    table_sorted = sorted(table_display, reverse = True)\n",
    "    for entry in table_sorted:\n",
    "        print(entry[1], ':', entry[0])"
   ]
  },
  {
   "cell_type": "code",
   "execution_count": 156,
   "metadata": {},
   "outputs": [
    {
     "name": "stdout",
     "output_type": "stream",
     "text": [
      "Everyone : 80.39\n",
      "Teen : 11.14\n",
      "Mature 17+ : 4.6\n",
      "Everyone 10+ : 3.82\n",
      "Adults only 18+ : 0.03\n",
      "Unrated : 0.02\n"
     ]
    }
   ],
   "source": [
    "display_table(apps_android[1:],8)"
   ]
  },
  {
   "cell_type": "code",
   "execution_count": 159,
   "metadata": {},
   "outputs": [
    {
     "name": "stdout",
     "output_type": "stream",
     "text": [
      "Games : 53.66\n",
      "Entertainment : 7.43\n",
      "Education : 6.29\n",
      "Photo & Video : 4.85\n",
      "Utilities : 3.45\n",
      "Health & Fitness : 2.5\n",
      "Productivity : 2.47\n",
      "Social Networking : 2.32\n",
      "Lifestyle : 2.0\n",
      "Music : 1.92\n",
      "Shopping : 1.7\n",
      "Sports : 1.58\n",
      "Book : 1.56\n",
      "Finance : 1.45\n",
      "Travel : 1.13\n",
      "News : 1.04\n",
      "Weather : 1.0\n",
      "Reference : 0.89\n",
      "Food & Drink : 0.88\n",
      "Business : 0.79\n",
      "Navigation : 0.64\n",
      "Medical : 0.32\n",
      "Catalogs : 0.14\n"
     ]
    }
   ],
   "source": [
    "display_table(apps_ios[1:],11)"
   ]
  },
  {
   "cell_type": "code",
   "execution_count": 160,
   "metadata": {},
   "outputs": [
    {
     "name": "stdout",
     "output_type": "stream",
     "text": [
      "FAMILY : 18.19\n",
      "GAME : 10.55\n",
      "TOOLS : 7.78\n",
      "MEDICAL : 4.27\n",
      "BUSINESS : 4.24\n",
      "PRODUCTIVITY : 3.91\n",
      "PERSONALIZATION : 3.62\n",
      "COMMUNICATION : 3.57\n",
      "SPORTS : 3.54\n",
      "LIFESTYLE : 3.52\n",
      "FINANCE : 3.38\n",
      "HEALTH_AND_FITNESS : 3.15\n",
      "PHOTOGRAPHY : 3.09\n",
      "SOCIAL : 2.72\n",
      "NEWS_AND_MAGAZINES : 2.61\n",
      "SHOPPING : 2.4\n",
      "TRAVEL_AND_LOCAL : 2.38\n",
      "DATING : 2.16\n",
      "BOOKS_AND_REFERENCE : 2.13\n",
      "VIDEO_PLAYERS : 1.61\n",
      "EDUCATION : 1.44\n",
      "ENTERTAINMENT : 1.37\n",
      "MAPS_AND_NAVIGATION : 1.26\n",
      "FOOD_AND_DRINK : 1.17\n",
      "HOUSE_AND_HOME : 0.81\n",
      "LIBRARIES_AND_DEMO : 0.78\n",
      "AUTO_AND_VEHICLES : 0.78\n",
      "WEATHER : 0.76\n",
      "ART_AND_DESIGN : 0.6\n",
      "EVENTS : 0.59\n",
      "PARENTING : 0.55\n",
      "COMICS : 0.55\n",
      "BEAUTY : 0.49\n"
     ]
    }
   ],
   "source": [
    "display_table(apps_android[1:], 1)"
   ]
  },
  {
   "cell_type": "code",
   "execution_count": 161,
   "metadata": {},
   "outputs": [
    {
     "name": "stdout",
     "output_type": "stream",
     "text": [
      "Tools : 7.77\n",
      "Entertainment : 5.75\n",
      "Education : 5.06\n",
      "Medical : 4.27\n",
      "Business : 4.24\n",
      "Productivity : 3.91\n",
      "Sports : 3.67\n",
      "Personalization : 3.62\n",
      "Communication : 3.57\n",
      "Lifestyle : 3.51\n",
      "Finance : 3.38\n",
      "Action : 3.37\n",
      "Health & Fitness : 3.15\n",
      "Photography : 3.09\n",
      "Social : 2.72\n",
      "News & Magazines : 2.61\n",
      "Shopping : 2.4\n",
      "Travel & Local : 2.37\n",
      "Dating : 2.16\n",
      "Books & Reference : 2.13\n",
      "Arcade : 2.03\n",
      "Simulation : 1.85\n",
      "Casual : 1.78\n",
      "Video Players & Editors : 1.6\n",
      "Puzzle : 1.29\n",
      "Maps & Navigation : 1.26\n",
      "Food & Drink : 1.17\n",
      "Role Playing : 1.01\n",
      "Strategy : 0.99\n",
      "Racing : 0.9\n",
      "House & Home : 0.81\n",
      "Libraries & Demo : 0.78\n",
      "Auto & Vehicles : 0.78\n",
      "Weather : 0.76\n",
      "Adventure : 0.69\n",
      "Events : 0.59\n",
      "Comics : 0.54\n",
      "Art & Design : 0.54\n",
      "Beauty : 0.49\n",
      "Education;Education : 0.46\n",
      "Card : 0.44\n",
      "Parenting : 0.42\n",
      "Board : 0.41\n",
      "Educational;Education : 0.38\n",
      "Casino : 0.36\n",
      "Trivia : 0.35\n",
      "Educational : 0.34\n",
      "Casual;Pretend Play : 0.29\n",
      "Word : 0.27\n",
      "Entertainment;Music & Video : 0.25\n",
      "Education;Pretend Play : 0.21\n",
      "Music : 0.2\n",
      "Casual;Action & Adventure : 0.19\n",
      "Racing;Action & Adventure : 0.18\n",
      "Puzzle;Brain Games : 0.18\n",
      "Educational;Pretend Play : 0.18\n",
      "Action;Action & Adventure : 0.16\n",
      "Arcade;Action & Adventure : 0.15\n",
      "Board;Brain Games : 0.14\n",
      "Casual;Brain Games : 0.12\n",
      "Adventure;Action & Adventure : 0.12\n",
      "Simulation;Action & Adventure : 0.1\n",
      "Entertainment;Brain Games : 0.07\n",
      "Role Playing;Action & Adventure : 0.06\n",
      "Parenting;Music & Video : 0.06\n",
      "Parenting;Education : 0.06\n",
      "Educational;Brain Games : 0.06\n",
      "Education;Creativity : 0.06\n",
      "Education;Action & Adventure : 0.06\n",
      "Casual;Creativity : 0.06\n",
      "Art & Design;Creativity : 0.06\n",
      "Role Playing;Pretend Play : 0.05\n",
      "Puzzle;Action & Adventure : 0.05\n",
      "Educational;Creativity : 0.05\n",
      "Education;Music & Video : 0.05\n",
      "Education;Brain Games : 0.05\n",
      "Sports;Action & Adventure : 0.04\n",
      "Simulation;Pretend Play : 0.04\n",
      "Educational;Action & Adventure : 0.04\n",
      "Video Players & Editors;Music & Video : 0.03\n",
      "Simulation;Education : 0.03\n",
      "Music;Music & Video : 0.03\n",
      "Entertainment;Creativity : 0.03\n",
      "Entertainment;Action & Adventure : 0.03\n",
      "Casual;Education : 0.03\n",
      "Board;Action & Adventure : 0.03\n",
      "Video Players & Editors;Creativity : 0.02\n",
      "Strategy;Action & Adventure : 0.02\n",
      "Puzzle;Creativity : 0.02\n",
      "Entertainment;Pretend Play : 0.02\n",
      "Casual;Music & Video : 0.02\n",
      "Card;Action & Adventure : 0.02\n",
      "Books & Reference;Education : 0.02\n",
      "Art & Design;Pretend Play : 0.02\n",
      "Art & Design;Action & Adventure : 0.02\n",
      "Adventure;Education : 0.02\n",
      "Trivia;Education : 0.01\n",
      "Travel & Local;Action & Adventure : 0.01\n",
      "Tools;Education : 0.01\n",
      "Strategy;Education : 0.01\n",
      "Strategy;Creativity : 0.01\n",
      "Role Playing;Education : 0.01\n",
      "Role Playing;Brain Games : 0.01\n",
      "Racing;Pretend Play : 0.01\n",
      "Puzzle;Education : 0.01\n",
      "Parenting;Brain Games : 0.01\n",
      "Music & Audio;Music & Video : 0.01\n",
      "Lifestyle;Pretend Play : 0.01\n",
      "Lifestyle;Education : 0.01\n",
      "Health & Fitness;Education : 0.01\n",
      "Health & Fitness;Action & Adventure : 0.01\n",
      "Entertainment;Education : 0.01\n",
      "Communication;Creativity : 0.01\n",
      "Comics;Creativity : 0.01\n",
      "Card;Brain Games : 0.01\n",
      "Books & Reference;Creativity : 0.01\n",
      "Board;Pretend Play : 0.01\n",
      "Arcade;Pretend Play : 0.01\n",
      "Adventure;Brain Games : 0.01\n"
     ]
    }
   ],
   "source": [
    "display_table(apps_android[1:], 9)"
   ]
  }
 ],
 "metadata": {
  "kernelspec": {
   "display_name": "Python 3",
   "language": "python",
   "name": "python3"
  },
  "language_info": {
   "codemirror_mode": {
    "name": "ipython",
    "version": 3
   },
   "file_extension": ".py",
   "mimetype": "text/x-python",
   "name": "python",
   "nbconvert_exporter": "python",
   "pygments_lexer": "ipython3",
   "version": "3.6.7"
  }
 },
 "nbformat": 4,
 "nbformat_minor": 2
}
